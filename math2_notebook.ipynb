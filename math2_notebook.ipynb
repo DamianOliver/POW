{
 "cells": [
  {
   "cell_type": "code",
   "execution_count": 1,
   "id": "5483b177-c6f3-4054-acf5-dbb197e6583c",
   "metadata": {},
   "outputs": [
    {
     "name": "stdout",
     "output_type": "stream",
     "text": [
      "program intitiated\n"
     ]
    }
   ],
   "source": [
    "def calculate(n, a, b):\n",
    "    for i in range (0, (int(n / a) + 1)):\n",
    "        if (n - i*a) % b == 0:\n",
    "            return True\n",
    "    return False\n",
    "\n",
    "def check_is_prime(number):\n",
    "    # print(\"num being checked: \", number)\n",
    "    for i in range(2, number):\n",
    "        if number % i == 0:\n",
    "            # print(\"not prime: \", number, i, number % i)\n",
    "            return False\n",
    "    return True\n",
    " \n",
    "# print(\"yea:\")\n",
    "# print(\"-----------------------\")\n",
    "\n",
    "\n",
    "a = -1\n",
    "b = -1\n",
    "c_value = -1\n",
    "\n",
    "expected = 3\n",
    "check_depth = 10000\n",
    "last = 0\n",
    "num = -1\n",
    "prime_list = []\n",
    "sheets = False\n",
    "\n",
    "# for c in range (check_depth):\n",
    "#     if calculate(c, a, b):\n",
    "#         factors = []\n",
    "#         for i in range(1, c+1):\n",
    "#             if c % i == 0:\n",
    "#                 factors.append(i)\n",
    "#         # total = 0\n",
    "#         # for i in range(len(factors)):\n",
    "#         #     total = total + factors[i]\n",
    "#         print(\"c:\", c, \"difference:\", c - last)\n",
    "        # print(c)\n",
    "        # if c - last != expected:\n",
    "        #     if c > a + b:\n",
    "        #         print(\"exception:\", c, \"difference of\", c - last)\n",
    "        # last = c\n",
    "        # print(\"factors\", factors)\n",
    "        # print(\"total:\", total)\n",
    "\n",
    "# print(\"_______________________\")\n",
    "# print(\"not possible:\")\n",
    "# print(\"-----------------------\")\n",
    "\n",
    "def calc_over_range(range_num):\n",
    "    num = -1\n",
    "    for i in range(1, range_num):\n",
    "        for c in range (check_depth):\n",
    "            if not calculate(c, a, i):\n",
    "                num = c\n",
    "        print(i, num)\n",
    "        if check_is_prime(num):\n",
    "            prime_list.append(num)\n",
    "\n",
    "def print_prime_differences(prime_list):\n",
    "    if not sheets:\n",
    "        for i in range(2, len(prime_list)):\n",
    "            print(i, prime_list[i] - prime_list[i-1])\n",
    "    else:\n",
    "        for i in range(2, len(prime_list)):\n",
    "            print(prime_list[i] - prime_list[i-1], \", \")\n",
    "\n",
    "def print_list(num_list):\n",
    "    if not sheets:\n",
    "        for i in range(len(num_list)):\n",
    "            print(i, num_list[i])\n",
    "    else:\n",
    "        for i in range(len(num_list)):\n",
    "            print(num_list[i], \", \")\n",
    "\n",
    "print(\"program intitiated\")"
   ]
  },
  {
   "cell_type": "code",
   "execution_count": 5,
   "id": "3f65e9d9-d858-4db8-b250-e70b46604524",
   "metadata": {},
   "outputs": [],
   "source": [
    "a = 8\n",
    "b = 4\n",
    "c = 4"
   ]
  },
  {
   "cell_type": "code",
   "execution_count": 6,
   "id": "eea18d18-bb46-42c2-98d8-849b3e344bc3",
   "metadata": {},
   "outputs": [
    {
     "data": {
      "text/plain": [
       "False"
      ]
     },
     "execution_count": 6,
     "metadata": {},
     "output_type": "execute_result"
    }
   ],
   "source": [
    "calculate(c_value, a, b)"
   ]
  },
  {
   "cell_type": "code",
   "execution_count": 13,
   "id": "c30d429f-44ba-4d24-a5c4-406ab52ab70e",
   "metadata": {},
   "outputs": [
    {
     "name": "stdout",
     "output_type": "stream",
     "text": [
      "1 -1\n",
      "2 9999\n",
      "3 13\n",
      "4 9999\n",
      "5 27\n",
      "6 9999\n",
      "7 41\n",
      "8 9999\n",
      "9 55\n",
      "10 9999\n",
      "11 69\n",
      "12 9999\n",
      "13 83\n",
      "14 9999\n",
      "15 97\n",
      "16 9999\n",
      "17 111\n",
      "18 9999\n",
      "19 125\n",
      "20 9999\n",
      "21 139\n",
      "22 9999\n",
      "23 153\n",
      "24 9999\n",
      "25 167\n",
      "26 9999\n",
      "27 181\n",
      "28 9999\n",
      "29 195\n",
      "30 9999\n",
      "31 209\n",
      "32 9999\n",
      "33 223\n",
      "34 9999\n",
      "35 237\n",
      "36 9999\n",
      "37 251\n",
      "38 9999\n",
      "39 265\n",
      "40 9999\n",
      "41 279\n",
      "42 9999\n",
      "43 293\n",
      "44 9999\n",
      "45 307\n",
      "46 9999\n",
      "47 321\n",
      "48 9999\n",
      "49 335\n",
      "50 9999\n",
      "51 349\n",
      "52 9999\n",
      "53 363\n",
      "54 9999\n",
      "55 377\n",
      "56 9999\n",
      "57 391\n",
      "58 9999\n",
      "59 405\n",
      "60 9999\n",
      "61 419\n",
      "62 9999\n",
      "63 433\n",
      "64 9999\n",
      "65 447\n",
      "66 9999\n",
      "67 461\n",
      "68 9999\n",
      "69 475\n",
      "70 9999\n",
      "71 489\n",
      "72 9999\n",
      "73 503\n",
      "74 9999\n",
      "75 517\n",
      "76 9999\n",
      "77 531\n",
      "78 9999\n",
      "79 545\n",
      "80 9999\n",
      "81 559\n",
      "82 9999\n",
      "83 573\n",
      "84 9999\n",
      "85 587\n",
      "86 9999\n",
      "87 601\n",
      "88 9999\n",
      "89 615\n",
      "90 9999\n",
      "91 629\n",
      "92 9999\n",
      "93 643\n",
      "94 9999\n",
      "95 657\n",
      "96 9999\n",
      "97 671\n",
      "98 9999\n",
      "99 685\n"
     ]
    }
   ],
   "source": [
    "x = range(100)\n",
    "\n",
    "calc_over_range(100)\n"
   ]
  },
  {
   "cell_type": "markdown",
   "id": "07903936-9b43-4a99-b360-4220682d556b",
   "metadata": {},
   "source": [
    "Hello, i'm awesome"
   ]
  },
  {
   "cell_type": "code",
   "execution_count": 12,
   "id": "bcaecaed-8a3a-4d41-9056-a9a19f7dcd66",
   "metadata": {},
   "outputs": [
    {
     "ename": "KeyboardInterrupt",
     "evalue": "Interrupted by user",
     "output_type": "error",
     "traceback": [
      "\u001b[1;31m---------------------------------------------------------------------------\u001b[0m",
      "\u001b[1;31mKeyboardInterrupt\u001b[0m                         Traceback (most recent call last)",
      "Input \u001b[1;32mIn [12]\u001b[0m, in \u001b[0;36m<cell line: 2>\u001b[1;34m()\u001b[0m\n\u001b[0;32m      1\u001b[0m \u001b[38;5;28;01mwhile\u001b[39;00m \u001b[38;5;28;01mTrue\u001b[39;00m:\n\u001b[1;32m----> 2\u001b[0m     action \u001b[38;5;241m=\u001b[39m \u001b[38;5;28;43minput\u001b[39;49m\u001b[43m(\u001b[49m\u001b[43m)\u001b[49m\n\u001b[0;32m      4\u001b[0m     \u001b[38;5;28;01mif\u001b[39;00m action \u001b[38;5;241m==\u001b[39m \u001b[38;5;124m\"\u001b[39m\u001b[38;5;124mprime diff\u001b[39m\u001b[38;5;124m\"\u001b[39m:\n\u001b[0;32m      5\u001b[0m         print_prime_differences(prime_list)\n",
      "File \u001b[1;32m~\\anaconda3\\lib\\site-packages\\ipykernel\\kernelbase.py:1075\u001b[0m, in \u001b[0;36mKernel.raw_input\u001b[1;34m(self, prompt)\u001b[0m\n\u001b[0;32m   1071\u001b[0m \u001b[38;5;28;01mif\u001b[39;00m \u001b[38;5;129;01mnot\u001b[39;00m \u001b[38;5;28mself\u001b[39m\u001b[38;5;241m.\u001b[39m_allow_stdin:\n\u001b[0;32m   1072\u001b[0m     \u001b[38;5;28;01mraise\u001b[39;00m StdinNotImplementedError(\n\u001b[0;32m   1073\u001b[0m         \u001b[38;5;124m\"\u001b[39m\u001b[38;5;124mraw_input was called, but this frontend does not support input requests.\u001b[39m\u001b[38;5;124m\"\u001b[39m\n\u001b[0;32m   1074\u001b[0m     )\n\u001b[1;32m-> 1075\u001b[0m \u001b[38;5;28;01mreturn\u001b[39;00m \u001b[38;5;28;43mself\u001b[39;49m\u001b[38;5;241;43m.\u001b[39;49m\u001b[43m_input_request\u001b[49m\u001b[43m(\u001b[49m\n\u001b[0;32m   1076\u001b[0m \u001b[43m    \u001b[49m\u001b[38;5;28;43mstr\u001b[39;49m\u001b[43m(\u001b[49m\u001b[43mprompt\u001b[49m\u001b[43m)\u001b[49m\u001b[43m,\u001b[49m\n\u001b[0;32m   1077\u001b[0m \u001b[43m    \u001b[49m\u001b[38;5;28;43mself\u001b[39;49m\u001b[38;5;241;43m.\u001b[39;49m\u001b[43m_parent_ident\u001b[49m\u001b[43m[\u001b[49m\u001b[38;5;124;43m\"\u001b[39;49m\u001b[38;5;124;43mshell\u001b[39;49m\u001b[38;5;124;43m\"\u001b[39;49m\u001b[43m]\u001b[49m\u001b[43m,\u001b[49m\n\u001b[0;32m   1078\u001b[0m \u001b[43m    \u001b[49m\u001b[38;5;28;43mself\u001b[39;49m\u001b[38;5;241;43m.\u001b[39;49m\u001b[43mget_parent\u001b[49m\u001b[43m(\u001b[49m\u001b[38;5;124;43m\"\u001b[39;49m\u001b[38;5;124;43mshell\u001b[39;49m\u001b[38;5;124;43m\"\u001b[39;49m\u001b[43m)\u001b[49m\u001b[43m,\u001b[49m\n\u001b[0;32m   1079\u001b[0m \u001b[43m    \u001b[49m\u001b[43mpassword\u001b[49m\u001b[38;5;241;43m=\u001b[39;49m\u001b[38;5;28;43;01mFalse\u001b[39;49;00m\u001b[43m,\u001b[49m\n\u001b[0;32m   1080\u001b[0m \u001b[43m\u001b[49m\u001b[43m)\u001b[49m\n",
      "File \u001b[1;32m~\\anaconda3\\lib\\site-packages\\ipykernel\\kernelbase.py:1120\u001b[0m, in \u001b[0;36mKernel._input_request\u001b[1;34m(self, prompt, ident, parent, password)\u001b[0m\n\u001b[0;32m   1117\u001b[0m             \u001b[38;5;28;01mbreak\u001b[39;00m\n\u001b[0;32m   1118\u001b[0m \u001b[38;5;28;01mexcept\u001b[39;00m \u001b[38;5;167;01mKeyboardInterrupt\u001b[39;00m:\n\u001b[0;32m   1119\u001b[0m     \u001b[38;5;66;03m# re-raise KeyboardInterrupt, to truncate traceback\u001b[39;00m\n\u001b[1;32m-> 1120\u001b[0m     \u001b[38;5;28;01mraise\u001b[39;00m \u001b[38;5;167;01mKeyboardInterrupt\u001b[39;00m(\u001b[38;5;124m\"\u001b[39m\u001b[38;5;124mInterrupted by user\u001b[39m\u001b[38;5;124m\"\u001b[39m) \u001b[38;5;28;01mfrom\u001b[39;00m \u001b[38;5;28mNone\u001b[39m\n\u001b[0;32m   1121\u001b[0m \u001b[38;5;28;01mexcept\u001b[39;00m \u001b[38;5;167;01mException\u001b[39;00m:\n\u001b[0;32m   1122\u001b[0m     \u001b[38;5;28mself\u001b[39m\u001b[38;5;241m.\u001b[39mlog\u001b[38;5;241m.\u001b[39mwarning(\u001b[38;5;124m\"\u001b[39m\u001b[38;5;124mInvalid Message:\u001b[39m\u001b[38;5;124m\"\u001b[39m, exc_info\u001b[38;5;241m=\u001b[39m\u001b[38;5;28;01mTrue\u001b[39;00m)\n",
      "\u001b[1;31mKeyboardInterrupt\u001b[0m: Interrupted by user"
     ]
    }
   ],
   "source": [
    "\n",
    "\n",
    "while True:\n",
    "    action = input()\n",
    "\n",
    "    if action == \"prime diff\":\n",
    "        print_prime_differences(prime_list)\n",
    "\n",
    "    elif action == \"prime list\":\n",
    "        print_list(prime_list)\n",
    "\n",
    "    elif action == \"toggle sheets\":\n",
    "        if sheets:\n",
    "            sheets = False\n",
    "            print(\"sheets set to false\")\n",
    "        else:\n",
    "            sheets = True\n",
    "            print(\"sheets set to true\")\n",
    "\n",
    "    elif action == \"set vals\":\n",
    "        a = int(input(\"enter value for a: \"))\n",
    "        b = int(input(\"enter value for b: \"))\n",
    "        c_value = int(input(\"enter value for c: \"))\n",
    "        check_depth = int(input(\"enter value for check depth: \"))\n",
    "\n",
    "    elif action == \"calc single val\":\n",
    "        if calculate(c_value, a, b):\n",
    "            print(\"the given values for a, b, and c work\")\n",
    "        else:\n",
    "            print(\"the given values for a, b, and c do not work\")\n",
    "\n",
    "    # elif action == \"calcgreatestfail\":\n",
    "    #     calc_over_range(b)\n",
    "\n",
    "    elif action == \"calc range\":\n",
    "        calc_over_range(int(input(\"enter range: \")))\n",
    "\n",
    "    elif action == \"help\":\n",
    "        print(\"set vals\")\n",
    "        print(\"calc range\")\n",
    "        print(\"prime list\")\n",
    "        print(\"prime diff\")\n",
    "        print(\"calc single val\")\n",
    "\n",
    "    else:\n",
    "        print(\"error: unknown command\")"
   ]
  },
  {
   "cell_type": "code",
   "execution_count": 18,
   "id": "ef098226-8e87-402a-88f2-20d5e3ee6d68",
   "metadata": {},
   "outputs": [
    {
     "data": {
      "image/png": "[encoded data removed]",
      "text/plain": [
       "<Figure size 432x288 with 1 Axes>"
      ]
     },
     "metadata": {
      "needs_background": "light"
     },
     "output_type": "display_data"
    }
   ],
   "source": [
    "import matplotlib.pyplot as plt\n",
    "plt.plot(prime_list)\n",
    "plt.show()"
   ]
  },
  {
   "cell_type": "code",
   "execution_count": null,
   "id": "27c6e6ee-9033-4442-ba0a-63d2981db02c",
   "metadata": {},
   "outputs": [],
   "source": []
  }
 ],
 "metadata": {
  "kernelspec": {
   "display_name": "Python 3 (ipykernel)",
   "language": "python",
   "name": "python3"
  },
  "language_info": {
   "codemirror_mode": {
    "name": "ipython",
    "version": 3
   },
   "file_extension": ".py",
   "mimetype": "text/x-python",
   "name": "python",
   "nbconvert_exporter": "python",
   "pygments_lexer": "ipython3",
   "version": "3.9.12"
  }
 },
 "nbformat": 4,
 "nbformat_minor": 5
}
